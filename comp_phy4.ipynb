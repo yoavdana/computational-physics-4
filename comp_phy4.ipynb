{
  "nbformat": 4,
  "nbformat_minor": 0,
  "metadata": {
    "colab": {
      "name": "comp_phy4.ipynb",
      "provenance": [],
      "collapsed_sections": [],
      "authorship_tag": "ABX9TyM3OPppcBy5w3WVrJS8/MQG",
      "include_colab_link": true
    },
    "kernelspec": {
      "name": "python3",
      "display_name": "Python 3"
    },
    "language_info": {
      "name": "python"
    }
  },
  "cells": [
    {
      "cell_type": "markdown",
      "metadata": {
        "id": "view-in-github",
        "colab_type": "text"
      },
      "source": [
        "<a href=\"https://colab.research.google.com/github/yoavdana/computational-physics-4/blob/main/comp_phy4.ipynb\" target=\"_parent\"><img src=\"https://colab.research.google.com/assets/colab-badge.svg\" alt=\"Open In Colab\"/></a>"
      ]
    },
    {
      "cell_type": "markdown",
      "source": [
        "computational physics EX4 -Yoav Dana"
      ],
      "metadata": {
        "id": "UPlNk3FX-UqE"
      }
    },
    {
      "cell_type": "code",
      "execution_count": 10,
      "metadata": {
        "id": "JfYFE9YE-LVm"
      },
      "outputs": [],
      "source": [
        "import numpy as np\n",
        "from matplotlib import pyplot as plt\n",
        "\n"
      ]
    },
    {
      "cell_type": "markdown",
      "source": [
        "part 1: jacobian numerical calculation and NR root solver"
      ],
      "metadata": {
        "id": "CA-8-qNMI64z"
      }
    },
    {
      "cell_type": "code",
      "source": [
        "def numerical_jacobian(f, xs, dx=1e-8):\n",
        "\n",
        "    ys = f(xs)\n",
        "\n",
        "    x_dim = xs.shape[0]\n",
        "    y_dim = ys.shape[0]\n",
        "\n",
        "    jac = np.empty((y_dim, x_dim))\n",
        "\n",
        "    for i in range(x_dim):\n",
        "        part_der_element = e(x_dim, i + 1)\n",
        "        x_plus = xs + dx * part_der_element\n",
        "        x_minus = xs - dx * part_der_element\n",
        "        jac[:, i] = (f(x_plus) - f(x_minus)) / (2 * dx)\n",
        "\n",
        "    return jac\n",
        "\n",
        "\n",
        "def e(n, i):\n",
        "  ret = np.zeros(n)\n",
        "  ret[i - 1] = 1.0\n",
        "  return ret\n",
        "\n",
        "\n",
        "def linear_search(F,x_old,delta):\n",
        "    g=lambda lamb: np.linalg.norm(F(x_old+lamb*delta),ord=2)\n",
        "    J = numerical_jacobian(F, x_old, dx=1e-8)\n",
        "    gra_g0=F(x_old).dot(J).dot(delta)\n",
        "    g0,g1=g(0),g(1)\n",
        "    l=-gra_g0/(2*(g1-g0-gra_g0))\n",
        "\n",
        "    return max(l,0.1)\n",
        "\n",
        "\n",
        "def Newton_Rap(F, x, eps,lr):\n",
        "    e=1e-8\n",
        "    F_value = F(x)\n",
        "    F_norm = np.linalg.norm(F_value, ord=2)  # l2 norm of vector\n",
        "    iteration_counter = 0\n",
        "    while abs(F_norm) > eps and iteration_counter < 5000:\n",
        "        J = numerical_jacobian(F, x, dx=1e-8)\n",
        "        delta = -lr*np.matmul(np.linalg.inv(J+e*np.eye(J.shape[0],J.shape[1])),F(x))\n",
        "        x_temp = x + delta\n",
        "        F_old,F_temp =np.linalg.norm(F(x), ord=2),np.linalg.norm(F(x_temp), ord=2)\n",
        "        if np.abs(F_old)>np.abs(F_temp):\n",
        "            x=x_temp\n",
        "            F_norm=F_temp\n",
        "        else:\n",
        "            lamb=linear_search(F, x, delta)\n",
        "            x=x+lamb*delta\n",
        "            F_norm=np.linalg.norm(F(x), ord=2)\n",
        "\n",
        "\n",
        "        iteration_counter += 1\n",
        "\n",
        "\n",
        "    return x, iteration_counter\n"
      ],
      "metadata": {
        "id": "T5sicDxnJD4N"
      },
      "execution_count": 20,
      "outputs": []
    },
    {
      "cell_type": "markdown",
      "source": [
        "Jacobian calculation test: i choose a few functions with a known jacobian and tested the function \"numerical_jacobian\""
      ],
      "metadata": {
        "id": "JngNdu69LH6j"
      }
    },
    {
      "cell_type": "code",
      "source": [
        "\n",
        "def f1(x):\n",
        "\n",
        "    f1 =x[0]\n",
        "    f2 =5*x[2]\n",
        "    f3=4*x[1]**2-2*x[2]\n",
        "    f4=x[2]*np.sin(x[0])\n",
        "\n",
        "    return np.array([f1,f2,f3,f4])\n",
        "\n",
        "def real_jac1(x):\n",
        "    return np.array([[1,0,0],[0,0,5],[0,8*x[1],-2],[x[2]*np.cos(x[0]),0,np.sin(x[0])]])\n",
        "\n",
        "\n",
        "def f2(x):\n",
        "\n",
        "    f1 = x[0]**2-x[1]*x[2]\n",
        "    f2 = x[0]*x[1]*x[2]\n",
        "\n",
        "    return np.array([f1, f2])\n",
        "\n",
        "def real_jac2(x):\n",
        "    return np.array([[2*x[0],-x[2],-x[1]],[x[1]*x[2],x[0]*x[2],x[0]*x[1]]])\n",
        "\n",
        "\n",
        "x = np.array([1,4,2], dtype=float)\n",
        "\n",
        "print('numerical jacobian=',numerical_jacobian(f1, x, dx=1e-8))\n",
        "print('real jacobian=',real_jac1(x))\n",
        "\n",
        "print('numerical jacobian=',numerical_jacobian(f2, x, dx=1e-8))\n",
        "print('real jacobian=',real_jac2(x))\n",
        "\n",
        "\n",
        "def test_Newton_system1():\n",
        "    from numpy import cos, sin, pi, exp\n",
        "\n",
        "    def F(x):\n",
        "        return np.array(\n",
        "            [x[0] ** 2 - x[1] + x[0] * cos(pi * x[0]),x[0] * x[1] + exp(-x[1]) - x[0] ** (-1)])\n",
        "\n",
        "    def F1(x):\n",
        "        x1,x2,x3=x[0],x[1],x[2]\n",
        "        f1=x1+x2+x3**2-12\n",
        "        f2=x1-x2+x3-2\n",
        "        f3=2*x1-x2**2+x3-1\n",
        "        return np.array([f1,f2,f3])\n",
        "    expected = np.array([1, 0])\n",
        "\n",
        "\n",
        "    x, n = Newton_Rap(F, np.array([30, 50],dtype='float64'), 1e-6,0.1)\n",
        "    print(n, F(x))\n",
        "\n",
        "\n",
        "\n",
        "    x, n = Newton_Rap(F1, np.array([500,-100, 1000],dtype='float64'), 1e-6,0.1)\n",
        "    print(n, F1(x))\n",
        "test_Newton_system1()"
      ],
      "metadata": {
        "colab": {
          "base_uri": "https://localhost:8080/"
        },
        "id": "V0c7agfgLM_m",
        "outputId": "623f2327-1c40-4742-a6bc-9adc6be42bc4"
      },
      "execution_count": 19,
      "outputs": [
        {
          "output_type": "stream",
          "name": "stdout",
          "text": [
            "numerical jacobian= [[ 1.          0.          0.        ]\n",
            " [ 0.          0.          5.00000006]\n",
            " [ 0.         31.99999981 -2.00000017]\n",
            " [ 1.08060462  0.          0.84147098]]\n",
            "real jacobian= [[ 1.          0.          0.        ]\n",
            " [ 0.          0.          5.        ]\n",
            " [ 0.         32.         -2.        ]\n",
            " [ 1.08060461  0.          0.84147098]]\n",
            "numerical jacobian= [[ 1.99999999 -1.99999999 -3.99999998]\n",
            " [ 8.          1.99999999  3.99999998]]\n",
            "real jacobian= [[ 2. -2. -4.]\n",
            " [ 8.  2.  4.]]\n",
            "202 [-8.03354553e-07  5.29106117e-07]\n",
            "268 [ 9.01885036e-07  1.05525810e-09 -8.03336277e-08]\n"
          ]
        }
      ]
    }
  ]
}