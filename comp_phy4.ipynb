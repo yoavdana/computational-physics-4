{
  "nbformat": 4,
  "nbformat_minor": 0,
  "metadata": {
    "colab": {
      "name": "comp_phy4.ipynb",
      "provenance": [],
      "authorship_tag": "ABX9TyOPVSg8xMOw1L//jOr/R7pB",
      "include_colab_link": true
    },
    "kernelspec": {
      "name": "python3",
      "display_name": "Python 3"
    },
    "language_info": {
      "name": "python"
    }
  },
  "cells": [
    {
      "cell_type": "markdown",
      "metadata": {
        "id": "view-in-github",
        "colab_type": "text"
      },
      "source": [
        "<a href=\"https://colab.research.google.com/github/yoavdana/computational-physics-4/blob/main/comp_phy4.ipynb\" target=\"_parent\"><img src=\"https://colab.research.google.com/assets/colab-badge.svg\" alt=\"Open In Colab\"/></a>"
      ]
    },
    {
      "cell_type": "markdown",
      "source": [
        "computational physics EX4 -Yoav Dana"
      ],
      "metadata": {
        "id": "UPlNk3FX-UqE"
      }
    },
    {
      "cell_type": "code",
      "execution_count": 15,
      "metadata": {
        "id": "JfYFE9YE-LVm"
      },
      "outputs": [],
      "source": [
        "import numpy as np\n",
        "from matplotlib import pyplot as plt\n",
        "\n"
      ]
    },
    {
      "cell_type": "markdown",
      "source": [
        "part 1: jacobian numerical calculation and NR root solver"
      ],
      "metadata": {
        "id": "CA-8-qNMI64z"
      }
    },
    {
      "cell_type": "code",
      "source": [
        "def numerical_jacobian(f, xs, dx=1e-8):\n",
        "\n",
        "    ys = f(xs)\n",
        "\n",
        "    x_dim = xs.shape[0]\n",
        "    y_dim = ys.shape[0]\n",
        "\n",
        "    jac = np.empty((y_dim, x_dim))\n",
        "\n",
        "    for i in range(x_dim):\n",
        "        part_der_element = e(x_dim, i + 1)\n",
        "        x_plus = xs + dx * part_der_element\n",
        "        x_minus = xs - dx * part_der_element\n",
        "        jac[:, i] = (f(x_plus) - f(x_minus)) / (2 * dx)\n",
        "\n",
        "    return jac\n",
        "\n",
        "\n",
        "def e(n, i):\n",
        "  ret = np.zeros(n)\n",
        "  ret[i - 1] = 1.0\n",
        "  return ret"
      ],
      "metadata": {
        "id": "T5sicDxnJD4N"
      },
      "execution_count": 16,
      "outputs": []
    },
    {
      "cell_type": "markdown",
      "source": [
        "Jacobian calculation test: i choose a few functions with a known jacobian and tested the function \"numerical_jacobian\""
      ],
      "metadata": {
        "id": "JngNdu69LH6j"
      }
    },
    {
      "cell_type": "code",
      "source": [
        "\n",
        "def f1(x):\n",
        "\n",
        "    f1 =x[0]\n",
        "    f2 =5*x[2]\n",
        "    f3=4*x[1]**2-2*x[2]\n",
        "    f4=x[2]*np.sin(x[0])\n",
        "\n",
        "    return np.array([f1,f2,f3,f4])\n",
        "\n",
        "def real_jac1(x):\n",
        "    return np.array([[1,0,0],[0,0,5],[0,8*x[1],-2],[x[2]*np.cos(x[0]),0,np.sin(x[0])]])\n",
        "\n",
        "\n",
        "def f2(x):\n",
        "\n",
        "    f1 = x[0]**2-x[1]*x[2]\n",
        "    f2 = x[0]*x[1]*x[2]\n",
        "\n",
        "    return np.array([f1, f2])\n",
        "\n",
        "def real_jac2(x):\n",
        "    return np.array([[2*x[0],-x[2],-x[1]],[x[1]*x[2],x[0]*x[2],x[0]*x[1]]])\n",
        "\n",
        "\n",
        "x = np.array([1,4,2], dtype=float)\n",
        "\n",
        "print('numerical jacobian=',numerical_jacobian(f1, x, dx=1e-8))\n",
        "print('real jacobian=',real_jac1(x))\n",
        "\n",
        "print('numerical jacobian=',numerical_jacobian(f2, x, dx=1e-8))\n",
        "print('real jacobian=',real_jac2(x))\n"
      ],
      "metadata": {
        "colab": {
          "base_uri": "https://localhost:8080/"
        },
        "id": "V0c7agfgLM_m",
        "outputId": "90e0fc20-0121-49c5-d855-48e2dd216965"
      },
      "execution_count": 17,
      "outputs": [
        {
          "output_type": "stream",
          "name": "stdout",
          "text": [
            "numerical jacobian= [[ 1.          0.          0.        ]\n",
            " [ 0.          0.          5.00000006]\n",
            " [ 0.         31.99999981 -2.00000017]\n",
            " [ 1.08060462  0.          0.84147098]]\n",
            "real jacobian= [[ 1.          0.          0.        ]\n",
            " [ 0.          0.          5.        ]\n",
            " [ 0.         32.         -2.        ]\n",
            " [ 1.08060461  0.          0.84147098]]\n",
            "numerical jacobian= [[ 1.99999999 -1.99999999 -3.99999998]\n",
            " [ 8.          1.99999999  3.99999998]]\n",
            "real jacobian= [[ 2. -2. -4.]\n",
            " [ 8.  2.  4.]]\n"
          ]
        }
      ]
    }
  ]
}