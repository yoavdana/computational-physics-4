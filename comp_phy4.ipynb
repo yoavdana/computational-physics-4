{
  "nbformat": 4,
  "nbformat_minor": 0,
  "metadata": {
    "colab": {
      "name": "comp_phy4.ipynb",
      "provenance": [],
      "collapsed_sections": [],
      "authorship_tag": "ABX9TyPWt21tJiMxYdrcdBJwF9N0",
      "include_colab_link": true
    },
    "kernelspec": {
      "name": "python3",
      "display_name": "Python 3"
    },
    "language_info": {
      "name": "python"
    }
  },
  "cells": [
    {
      "cell_type": "markdown",
      "metadata": {
        "id": "view-in-github",
        "colab_type": "text"
      },
      "source": [
        "<a href=\"https://colab.research.google.com/github/yoavdana/computational-physics-4/blob/main/comp_phy4.ipynb\" target=\"_parent\"><img src=\"https://colab.research.google.com/assets/colab-badge.svg\" alt=\"Open In Colab\"/></a>"
      ]
    },
    {
      "cell_type": "markdown",
      "source": [
        "computational physics EX4 -Yoav Dana"
      ],
      "metadata": {
        "id": "UPlNk3FX-UqE"
      }
    },
    {
      "cell_type": "code",
      "execution_count": 2,
      "metadata": {
        "id": "JfYFE9YE-LVm"
      },
      "outputs": [],
      "source": [
        "import numpy as np\n",
        "from matplotlib import pyplot as plt\n",
        "\n"
      ]
    },
    {
      "cell_type": "markdown",
      "source": [
        "part 1: jacobian numerical calculation and NR root solver"
      ],
      "metadata": {
        "id": "CA-8-qNMI64z"
      }
    },
    {
      "cell_type": "code",
      "source": [
        "def numerical_jacobian(f, xs, dx=1e-8):\n",
        "\n",
        "    ys = f(xs)\n",
        "\n",
        "    x_dim = xs.shape[0]\n",
        "    y_dim = ys.shape[0]\n",
        "\n",
        "    jac = np.empty((y_dim, x_dim))\n",
        "\n",
        "    for i in range(x_dim):\n",
        "        part_der_element = e(x_dim, i + 1)\n",
        "        x_plus = xs + dx * part_der_element\n",
        "        x_minus = xs - dx * part_der_element\n",
        "        jac[:, i] = (f(x_plus) - f(x_minus)) / (2 * dx)\n",
        "\n",
        "    return jac\n",
        "\n",
        "\n",
        "def e(n, i):\n",
        "  ret = np.zeros(n)\n",
        "  ret[i - 1] = 1.0\n",
        "  return ret\n",
        "\n",
        "\n",
        "def linear_search(F,x_old,delta):\n",
        "    g=lambda lamb: np.linalg.norm(F(x_old+lamb*delta),ord=2)\n",
        "    J = numerical_jacobian(F, x_old, dx=1e-8)\n",
        "    gra_g0=F(x_old).dot(J).dot(delta)\n",
        "    g0,g1=g(0),g(1)\n",
        "    l=-gra_g0/(2*(g1-g0-gra_g0))\n",
        "\n",
        "    return max(l,0.1)\n",
        "\n",
        "\n",
        "def Newton_Rap(F, x, eps,lr):\n",
        "    e=1e-8\n",
        "    F_value = F(x)\n",
        "    F_norm = np.linalg.norm(F_value, ord=2)  # l2 norm of vector\n",
        "    iteration_counter = 0\n",
        "    while abs(F_norm) > eps and iteration_counter < 5000:\n",
        "        J = numerical_jacobian(F, x, dx=1e-8)\n",
        "        delta = -lr*np.matmul(np.linalg.inv(J+e*np.eye(J.shape[0],J.shape[1])),F(x))\n",
        "        x_temp = x + delta\n",
        "        F_old,F_temp =np.linalg.norm(F(x), ord=2),np.linalg.norm(F(x_temp), ord=2)\n",
        "        if np.abs(F_old)>np.abs(F_temp):\n",
        "            x=x_temp\n",
        "            F_norm=F_temp\n",
        "        else:\n",
        "            lamb=linear_search(F, x, delta)\n",
        "            x=x+lamb*delta\n",
        "            F_norm=np.linalg.norm(F(x), ord=2)\n",
        "\n",
        "\n",
        "        iteration_counter += 1\n",
        "\n",
        "\n",
        "    return x, iteration_counter\n"
      ],
      "metadata": {
        "id": "T5sicDxnJD4N"
      },
      "execution_count": 3,
      "outputs": []
    },
    {
      "cell_type": "markdown",
      "source": [
        "Jacobian calculation test: i choose a few functions with a known jacobian and tested the function \"numerical_jacobian\""
      ],
      "metadata": {
        "id": "JngNdu69LH6j"
      }
    },
    {
      "cell_type": "code",
      "source": [
        "\n",
        "def f1(x):\n",
        "\n",
        "    f1 =x[0]\n",
        "    f2 =5*x[2]\n",
        "    f3=4*x[1]**2-2*x[2]\n",
        "    f4=x[2]*np.sin(x[0])\n",
        "\n",
        "    return np.array([f1,f2,f3,f4])\n",
        "\n",
        "def real_jac1(x):\n",
        "    return np.array([[1,0,0],[0,0,5],[0,8*x[1],-2],[x[2]*np.cos(x[0]),0,np.sin(x[0])]])\n",
        "\n",
        "\n",
        "def f2(x):\n",
        "\n",
        "    f1 = x[0]**2-x[1]*x[2]\n",
        "    f2 = x[0]*x[1]*x[2]\n",
        "\n",
        "    return np.array([f1, f2])\n",
        "\n",
        "def real_jac2(x):\n",
        "    return np.array([[2*x[0],-x[2],-x[1]],[x[1]*x[2],x[0]*x[2],x[0]*x[1]]])\n",
        "\n",
        "\n",
        "x = np.array([1,4,2], dtype=float)\n",
        "\n",
        "print('numerical jacobian=',numerical_jacobian(f1, x, dx=1e-8))\n",
        "print('real jacobian=',real_jac1(x))\n",
        "\n",
        "print('numerical jacobian=',numerical_jacobian(f2, x, dx=1e-8))\n",
        "print('real jacobian=',real_jac2(x))\n",
        "\n",
        "\n",
        "def test_Newton_system1():\n",
        "    from numpy import cos, sin, pi, exp\n",
        "\n",
        "    def F(x):\n",
        "        return np.array(\n",
        "            [x[0] ** 2 - x[1] + x[0] * cos(pi * x[0]),x[0] * x[1] + exp(-x[1]) - x[0] ** (-1)])\n",
        "\n",
        "    def F1(x):\n",
        "        x1,x2,x3=x[0],x[1],x[2]\n",
        "        f1=x1+x2+x3**2-12\n",
        "        f2=x1-x2+x3-2\n",
        "        f3=2*x1-x2**2+x3-1\n",
        "        return np.array([f1,f2,f3])\n",
        "    expected = np.array([1, 0])\n",
        "\n",
        "\n",
        "    x, n = Newton_Rap(F, np.array([30, 50],dtype='float64'), 1e-6,0.1)\n",
        "    print(n, F(x))\n",
        "\n",
        "\n",
        "\n",
        "    x, n = Newton_Rap(F1, np.array([500,-100, 1000],dtype='float64'), 1e-6,0.1)\n",
        "    print(n, F1(x))\n",
        "test_Newton_system1()"
      ],
      "metadata": {
        "colab": {
          "base_uri": "https://localhost:8080/"
        },
        "id": "V0c7agfgLM_m",
        "outputId": "3e10cf62-8728-4364-a1ac-e1601e269490"
      },
      "execution_count": 4,
      "outputs": [
        {
          "output_type": "stream",
          "name": "stdout",
          "text": [
            "numerical jacobian= [[ 1.          0.          0.        ]\n",
            " [ 0.          0.          5.00000006]\n",
            " [ 0.         31.99999981 -2.00000017]\n",
            " [ 1.08060462  0.          0.84147098]]\n",
            "real jacobian= [[ 1.          0.          0.        ]\n",
            " [ 0.          0.          5.        ]\n",
            " [ 0.         32.         -2.        ]\n",
            " [ 1.08060461  0.          0.84147098]]\n",
            "numerical jacobian= [[ 1.99999999 -1.99999999 -3.99999998]\n",
            " [ 8.          1.99999999  3.99999998]]\n",
            "real jacobian= [[ 2. -2. -4.]\n",
            " [ 8.  2.  4.]]\n",
            "188 [-2.18137832e-08  9.81344157e-07]\n",
            "267 [ 8.83798192e-07  1.02287245e-09 -2.70627908e-07]\n"
          ]
        }
      ]
    },
    {
      "cell_type": "markdown",
      "source": [
        "part 3 +4-hydrostatic condition function,dworf star calculation"
      ],
      "metadata": {
        "id": "wVftSIWQwDPg"
      }
    },
    {
      "cell_type": "code",
      "source": [
        "def f_r(r):\n",
        "  \n",
        "  #G=6.67430e-8\n",
        "  #G=6.6743e-11\n",
        "  G=1.1904e-19\n",
        "  dm=M/len(r)\n",
        "  fi=np.array([])\n",
        "  for i in range(len(r)-1):\n",
        "    pi=lambda i : kappa*dm/((r[i]**3-r[i-1]**3)*(4*np.pi)/3)\n",
        "   \n",
        "    dpi_dm=2*(pi(i+1)-pi(i))/(dm*(i+1)-dm*(i-1))\n",
        "    denom=G*dm*i/(4*pi*r[i]**4)\n",
        "    fi_curr=dpi_dm/denom+1\n",
        "    fi=np.hstack([fi,fi_curr])\n",
        "  return fi\n",
        "\n",
        "def calc_dwarf(R_,M_,n,gamma_):\n",
        "  global R\n",
        "  global M\n",
        "  global gamma\n",
        "  global kappa\n",
        "  R=R_\n",
        "  M=M_\n",
        "  gamma=gamma_\n",
        "  \n",
        "  if gamma==5/3: \n",
        "    kappa=3.15e12  \n",
        "  else:\n",
        "     kappa=4.9e14  \n",
        "  r_init=R*np.arange(n)/n\n",
        "  r_sol=Newton_Rap(f_r,r_init,1e-8,0.1)\n",
        "  return r_sol[0]\n",
        "\n",
        "\n",
        "print(calc_dwarf(1,1,100,5/3))"
      ],
      "metadata": {
        "colab": {
          "base_uri": "https://localhost:8080/",
          "height": 588
        },
        "id": "JEGcaljY1ABC",
        "outputId": "422d963c-a882-4573-d00b-127457571a88"
      },
      "execution_count": 8,
      "outputs": [
        {
          "output_type": "error",
          "ename": "TypeError",
          "evalue": "ignored",
          "traceback": [
            "\u001b[0;31m---------------------------------------------------------------------------\u001b[0m",
            "\u001b[0;31mTypeError\u001b[0m                                 Traceback (most recent call last)",
            "\u001b[0;32m<ipython-input-8-b790150b0d93>\u001b[0m in \u001b[0;36m<module>\u001b[0;34m()\u001b[0m\n\u001b[1;32m     33\u001b[0m \u001b[0;34m\u001b[0m\u001b[0m\n\u001b[1;32m     34\u001b[0m \u001b[0;34m\u001b[0m\u001b[0m\n\u001b[0;32m---> 35\u001b[0;31m \u001b[0mprint\u001b[0m\u001b[0;34m(\u001b[0m\u001b[0mcalc_dwarf\u001b[0m\u001b[0;34m(\u001b[0m\u001b[0;36m1\u001b[0m\u001b[0;34m,\u001b[0m\u001b[0;36m1\u001b[0m\u001b[0;34m,\u001b[0m\u001b[0;36m100\u001b[0m\u001b[0;34m,\u001b[0m\u001b[0;36m5\u001b[0m\u001b[0;34m/\u001b[0m\u001b[0;36m3\u001b[0m\u001b[0;34m)\u001b[0m\u001b[0;34m)\u001b[0m\u001b[0;34m\u001b[0m\u001b[0;34m\u001b[0m\u001b[0m\n\u001b[0m",
            "\u001b[0;32m<ipython-input-8-b790150b0d93>\u001b[0m in \u001b[0;36mcalc_dwarf\u001b[0;34m(R_, M_, n, gamma_)\u001b[0m\n\u001b[1;32m     29\u001b[0m      \u001b[0mkappa\u001b[0m\u001b[0;34m=\u001b[0m\u001b[0;36m4.9e14\u001b[0m\u001b[0;34m\u001b[0m\u001b[0;34m\u001b[0m\u001b[0m\n\u001b[1;32m     30\u001b[0m   \u001b[0mr_init\u001b[0m\u001b[0;34m=\u001b[0m\u001b[0mR\u001b[0m\u001b[0;34m*\u001b[0m\u001b[0mnp\u001b[0m\u001b[0;34m.\u001b[0m\u001b[0marange\u001b[0m\u001b[0;34m(\u001b[0m\u001b[0mn\u001b[0m\u001b[0;34m)\u001b[0m\u001b[0;34m/\u001b[0m\u001b[0mn\u001b[0m\u001b[0;34m\u001b[0m\u001b[0;34m\u001b[0m\u001b[0m\n\u001b[0;32m---> 31\u001b[0;31m   \u001b[0mr_sol\u001b[0m\u001b[0;34m=\u001b[0m\u001b[0mNewton_Rap\u001b[0m\u001b[0;34m(\u001b[0m\u001b[0mf_r\u001b[0m\u001b[0;34m,\u001b[0m\u001b[0mr_init\u001b[0m\u001b[0;34m,\u001b[0m\u001b[0;36m1e-8\u001b[0m\u001b[0;34m,\u001b[0m\u001b[0;36m0.1\u001b[0m\u001b[0;34m)\u001b[0m\u001b[0;34m\u001b[0m\u001b[0;34m\u001b[0m\u001b[0m\n\u001b[0m\u001b[1;32m     32\u001b[0m   \u001b[0;32mreturn\u001b[0m \u001b[0mr_sol\u001b[0m\u001b[0;34m[\u001b[0m\u001b[0;36m0\u001b[0m\u001b[0;34m]\u001b[0m\u001b[0;34m\u001b[0m\u001b[0;34m\u001b[0m\u001b[0m\n\u001b[1;32m     33\u001b[0m \u001b[0;34m\u001b[0m\u001b[0m\n",
            "\u001b[0;32m<ipython-input-3-cd2766d412c4>\u001b[0m in \u001b[0;36mNewton_Rap\u001b[0;34m(F, x, eps, lr)\u001b[0m\n\u001b[1;32m     35\u001b[0m \u001b[0;32mdef\u001b[0m \u001b[0mNewton_Rap\u001b[0m\u001b[0;34m(\u001b[0m\u001b[0mF\u001b[0m\u001b[0;34m,\u001b[0m \u001b[0mx\u001b[0m\u001b[0;34m,\u001b[0m \u001b[0meps\u001b[0m\u001b[0;34m,\u001b[0m\u001b[0mlr\u001b[0m\u001b[0;34m)\u001b[0m\u001b[0;34m:\u001b[0m\u001b[0;34m\u001b[0m\u001b[0;34m\u001b[0m\u001b[0m\n\u001b[1;32m     36\u001b[0m     \u001b[0me\u001b[0m\u001b[0;34m=\u001b[0m\u001b[0;36m1e-8\u001b[0m\u001b[0;34m\u001b[0m\u001b[0;34m\u001b[0m\u001b[0m\n\u001b[0;32m---> 37\u001b[0;31m     \u001b[0mF_value\u001b[0m \u001b[0;34m=\u001b[0m \u001b[0mF\u001b[0m\u001b[0;34m(\u001b[0m\u001b[0mx\u001b[0m\u001b[0;34m)\u001b[0m\u001b[0;34m\u001b[0m\u001b[0;34m\u001b[0m\u001b[0m\n\u001b[0m\u001b[1;32m     38\u001b[0m     \u001b[0mF_norm\u001b[0m \u001b[0;34m=\u001b[0m \u001b[0mnp\u001b[0m\u001b[0;34m.\u001b[0m\u001b[0mlinalg\u001b[0m\u001b[0;34m.\u001b[0m\u001b[0mnorm\u001b[0m\u001b[0;34m(\u001b[0m\u001b[0mF_value\u001b[0m\u001b[0;34m,\u001b[0m \u001b[0mord\u001b[0m\u001b[0;34m=\u001b[0m\u001b[0;36m2\u001b[0m\u001b[0;34m)\u001b[0m  \u001b[0;31m# l2 norm of vector\u001b[0m\u001b[0;34m\u001b[0m\u001b[0;34m\u001b[0m\u001b[0m\n\u001b[1;32m     39\u001b[0m     \u001b[0miteration_counter\u001b[0m \u001b[0;34m=\u001b[0m \u001b[0;36m0\u001b[0m\u001b[0;34m\u001b[0m\u001b[0;34m\u001b[0m\u001b[0m\n",
            "\u001b[0;32m<ipython-input-8-b790150b0d93>\u001b[0m in \u001b[0;36mf_r\u001b[0;34m(r)\u001b[0m\n\u001b[1;32m     10\u001b[0m \u001b[0;34m\u001b[0m\u001b[0m\n\u001b[1;32m     11\u001b[0m     \u001b[0mdpi_dm\u001b[0m\u001b[0;34m=\u001b[0m\u001b[0;36m2\u001b[0m\u001b[0;34m*\u001b[0m\u001b[0;34m(\u001b[0m\u001b[0mpi\u001b[0m\u001b[0;34m(\u001b[0m\u001b[0mi\u001b[0m\u001b[0;34m+\u001b[0m\u001b[0;36m1\u001b[0m\u001b[0;34m)\u001b[0m\u001b[0;34m-\u001b[0m\u001b[0mpi\u001b[0m\u001b[0;34m(\u001b[0m\u001b[0mi\u001b[0m\u001b[0;34m)\u001b[0m\u001b[0;34m)\u001b[0m\u001b[0;34m/\u001b[0m\u001b[0;34m(\u001b[0m\u001b[0mdm\u001b[0m\u001b[0;34m*\u001b[0m\u001b[0;34m(\u001b[0m\u001b[0mi\u001b[0m\u001b[0;34m+\u001b[0m\u001b[0;36m1\u001b[0m\u001b[0;34m)\u001b[0m\u001b[0;34m-\u001b[0m\u001b[0mdm\u001b[0m\u001b[0;34m*\u001b[0m\u001b[0;34m(\u001b[0m\u001b[0mi\u001b[0m\u001b[0;34m-\u001b[0m\u001b[0;36m1\u001b[0m\u001b[0;34m)\u001b[0m\u001b[0;34m)\u001b[0m\u001b[0;34m\u001b[0m\u001b[0;34m\u001b[0m\u001b[0m\n\u001b[0;32m---> 12\u001b[0;31m     \u001b[0mdenom\u001b[0m\u001b[0;34m=\u001b[0m\u001b[0mG\u001b[0m\u001b[0;34m*\u001b[0m\u001b[0mdm\u001b[0m\u001b[0;34m*\u001b[0m\u001b[0mi\u001b[0m\u001b[0;34m/\u001b[0m\u001b[0;34m(\u001b[0m\u001b[0;36m4\u001b[0m\u001b[0;34m*\u001b[0m\u001b[0mpi\u001b[0m\u001b[0;34m*\u001b[0m\u001b[0mr\u001b[0m\u001b[0;34m[\u001b[0m\u001b[0mi\u001b[0m\u001b[0;34m]\u001b[0m\u001b[0;34m**\u001b[0m\u001b[0;36m4\u001b[0m\u001b[0;34m)\u001b[0m\u001b[0;34m\u001b[0m\u001b[0;34m\u001b[0m\u001b[0m\n\u001b[0m\u001b[1;32m     13\u001b[0m     \u001b[0mfi_curr\u001b[0m\u001b[0;34m=\u001b[0m\u001b[0mdpi_dm\u001b[0m\u001b[0;34m/\u001b[0m\u001b[0mdenom\u001b[0m\u001b[0;34m+\u001b[0m\u001b[0;36m1\u001b[0m\u001b[0;34m\u001b[0m\u001b[0;34m\u001b[0m\u001b[0m\n\u001b[1;32m     14\u001b[0m     \u001b[0mfi\u001b[0m\u001b[0;34m=\u001b[0m\u001b[0mnp\u001b[0m\u001b[0;34m.\u001b[0m\u001b[0mhstack\u001b[0m\u001b[0;34m(\u001b[0m\u001b[0;34m[\u001b[0m\u001b[0mfi\u001b[0m\u001b[0;34m,\u001b[0m\u001b[0mfi_curr\u001b[0m\u001b[0;34m]\u001b[0m\u001b[0;34m)\u001b[0m\u001b[0;34m\u001b[0m\u001b[0;34m\u001b[0m\u001b[0m\n",
            "\u001b[0;31mTypeError\u001b[0m: unsupported operand type(s) for *: 'int' and 'function'"
          ]
        }
      ]
    }
  ]
}